{
 "cells": [
  {
   "cell_type": "markdown",
   "metadata": {},
   "source": [
    "## Using lambda\n",
    "\n",
    "lambda : \"What is my purpose?\"\n",
    "\n",
    "lambda x: 3*x + 1\n",
    "\n",
    "lambda x, y: (x*y)**0.5 # geometry mean\n",
    "\n",
    "lambda x, y, z: (1/x + 1/y + 1/z) # Harmonic mean\n",
    "\n",
    "lambda x1, x2, ..., xn: <expresion>\n",
    "\n",
    "print((lambda x, y: x + y)(5, 6)) # Result 11"
   ]
  },
  {
   "cell_type": "code",
   "execution_count": null,
   "metadata": {},
   "outputs": [],
   "source": [
    "import numpy as np"
   ]
  },
  {
   "cell_type": "code",
   "execution_count": 2,
   "metadata": {},
   "outputs": [
    {
     "data": {
      "text/plain": [
       "102"
      ]
     },
     "execution_count": 2,
     "metadata": {},
     "output_type": "execute_result"
    }
   ],
   "source": [
    "#Examples\n",
    "function = lambda x: x+2\n",
    "function(100)"
   ]
  },
  {
   "cell_type": "code",
   "execution_count": 3,
   "metadata": {},
   "outputs": [
    {
     "name": "stdout",
     "output_type": "stream",
     "text": [
      "[1, 4, 9, 16, 25, 36, 49, 64, 81, 100]\n"
     ]
    }
   ],
   "source": [
    "def cuadrado(element=0):\n",
    "    return element * element\n",
    "\n",
    "lista = [1,2,3,4,5,6,7,8,9,10]\n",
    "result = list( map(cuadrado, lista) )\n",
    "print(result)"
   ]
  },
  {
   "cell_type": "code",
   "execution_count": 11,
   "metadata": {},
   "outputs": [],
   "source": [
    "fahrenheit = lambda T: ((float(9)/5)*T + 32)\n",
    "celsius = lambda T: (float(5)/9)*(T-32)\n",
    "temp = (36.5, 37, 37.5,39)\n",
    "F = list(map(fahrenheit, temp))\n",
    "C = list(map(celsius, F))"
   ]
  },
  {
   "cell_type": "code",
   "execution_count": 13,
   "metadata": {},
   "outputs": [
    {
     "name": "stdout",
     "output_type": "stream",
     "text": [
      "[97.7, 98.60000000000001, 99.5, 102.2]\n",
      "[36.5, 37.00000000000001, 37.5, 39.0]\n"
     ]
    }
   ],
   "source": [
    "print(F)\n",
    "print(C)"
   ]
  },
  {
   "cell_type": "code",
   "execution_count": 14,
   "metadata": {},
   "outputs": [
    {
     "data": {
      "text/plain": [
       "'99999'"
      ]
     },
     "execution_count": 14,
     "metadata": {},
     "output_type": "execute_result"
    }
   ],
   "source": [
    "#funs[3](5) -> \"33333\" \n",
    "# A possible definition of that array would be::\n",
    "funs = [lambda x: s*x for s in \"0123456789\"] \n",
    "# but if I call\n",
    "funs[3](5)\n",
    "# it's more:\n",
    "#funs[0](5) -> 99999\n",
    "#funs[1](5) -> 99999\n",
    "#funs[2](5) -> 99999\n",
    "#...\n",
    "#funs[9](5) -> 99999\n",
    "\n",
    "# all return the same, can be corrected:\n",
    "#funs = [lambda x, s=s: s*x for s in \"0123456789\"]\n",
    "# Yes now:\n",
    "#funs[0](5) -> 00000\n",
    "#funs[1](3) -> 111\n",
    "#funs[2](7) -> 2222222\n",
    "#...\n",
    "#funs[9](9) -> 999999999"
   ]
  },
  {
   "cell_type": "code",
   "execution_count": 15,
   "metadata": {},
   "outputs": [
    {
     "data": {
      "text/plain": [
       "'2222222'"
      ]
     },
     "execution_count": 15,
     "metadata": {},
     "output_type": "execute_result"
    }
   ],
   "source": [
    "funs = [lambda x, s=s: s*x for s in \"0123456789\"]\n",
    "funs[2](7)"
   ]
  }
 ],
 "metadata": {
  "kernelspec": {
   "display_name": "Python 3",
   "language": "python",
   "name": "python3"
  },
  "language_info": {
   "codemirror_mode": {
    "name": "ipython",
    "version": 3
   },
   "file_extension": ".py",
   "mimetype": "text/x-python",
   "name": "python",
   "nbconvert_exporter": "python",
   "pygments_lexer": "ipython3",
   "version": "3.7.4"
  }
 },
 "nbformat": 4,
 "nbformat_minor": 2
}
